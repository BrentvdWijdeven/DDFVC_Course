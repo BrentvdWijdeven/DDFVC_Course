{
 "cells": [
  {
   "cell_type": "markdown",
   "metadata": {},
   "source": [
    "### Imports etc"
   ]
  },
  {
   "cell_type": "code",
   "execution_count": 2,
   "metadata": {},
   "outputs": [
    {
     "name": "stderr",
     "output_type": "stream",
     "text": [
      "ERROR: Invalid requirement: '#'\n"
     ]
    },
    {
     "name": "stdout",
     "output_type": "stream",
     "text": [
      "Directly load parquet file fast. \n"
     ]
    },
    {
     "name": "stderr",
     "output_type": "stream",
     "text": [
      "ERROR: Invalid requirement: '#'\n"
     ]
    }
   ],
   "source": [
    "# !pip install pyarrow  # to load parquet file\n",
    "# !pip install statsmodels  # to run crosscorrelation function\n",
    "from utils import *  # help file with all functions etc.\n",
    "\n",
    "FREQ = '5S'\n",
    "\n",
    "df = load_raw_data()"
   ]
  },
  {
   "cell_type": "markdown",
   "metadata": {},
   "source": [
    "# Q1\n",
    "\n",
    "While analyzing this problem, you should be aware that there is probably a need to fill in data when it was not streamed. Note that some sensors only give data if they have something interesting to say because they measure a (sufficient) difference from the previous value or a value that is not what it should be. Other sensors only respond when prompted. Indicate how you filled in the ‘missing’ data for such sensors. Explain your method, why you believe it is the most suitable for the given sensors, and what alternatives you considered."
   ]
  },
  {
   "cell_type": "markdown",
   "metadata": {},
   "source": [
    "### Get some statistics"
   ]
  },
  {
   "cell_type": "code",
   "execution_count": 3,
   "metadata": {},
   "outputs": [
    {
     "data": {
      "text/html": [
       "<div>\n",
       "<style scoped>\n",
       "    .dataframe tbody tr th:only-of-type {\n",
       "        vertical-align: middle;\n",
       "    }\n",
       "\n",
       "    .dataframe tbody tr th {\n",
       "        vertical-align: top;\n",
       "    }\n",
       "\n",
       "    .dataframe thead th {\n",
       "        text-align: right;\n",
       "    }\n",
       "</style>\n",
       "<table border=\"1\" class=\"dataframe\">\n",
       "  <thead>\n",
       "    <tr style=\"text-align: right;\">\n",
       "      <th></th>\n",
       "      <th>Tag</th>\n",
       "      <th>TS</th>\n",
       "      <th>avg</th>\n",
       "      <th>UoM</th>\n",
       "    </tr>\n",
       "  </thead>\n",
       "  <tbody>\n",
       "    <tr>\n",
       "      <th>0</th>\n",
       "      <td>XZWH6517900</td>\n",
       "      <td>2020-06-12 00:00:00</td>\n",
       "      <td>86.91900</td>\n",
       "      <td>percentage</td>\n",
       "    </tr>\n",
       "    <tr>\n",
       "      <th>1</th>\n",
       "      <td>NLFD6046949</td>\n",
       "      <td>2020-06-12 00:00:00</td>\n",
       "      <td>6.87600</td>\n",
       "      <td>pressure</td>\n",
       "    </tr>\n",
       "    <tr>\n",
       "      <th>2</th>\n",
       "      <td>OLGF7428100</td>\n",
       "      <td>2020-06-12 00:00:00</td>\n",
       "      <td>10.52000</td>\n",
       "      <td>temperature</td>\n",
       "    </tr>\n",
       "    <tr>\n",
       "      <th>3</th>\n",
       "      <td>VKBD2463131</td>\n",
       "      <td>2020-06-12 00:00:00</td>\n",
       "      <td>25.41540</td>\n",
       "      <td>temperature</td>\n",
       "    </tr>\n",
       "    <tr>\n",
       "      <th>4</th>\n",
       "      <td>WJTY3058662</td>\n",
       "      <td>2020-06-12 00:00:00</td>\n",
       "      <td>17.55760</td>\n",
       "      <td>flow</td>\n",
       "    </tr>\n",
       "    <tr>\n",
       "      <th>...</th>\n",
       "      <td>...</td>\n",
       "      <td>...</td>\n",
       "      <td>...</td>\n",
       "      <td>...</td>\n",
       "    </tr>\n",
       "    <tr>\n",
       "      <th>447511</th>\n",
       "      <td>OGXF8790955</td>\n",
       "      <td>2020-06-13 23:59:55</td>\n",
       "      <td>726.23070</td>\n",
       "      <td>flow</td>\n",
       "    </tr>\n",
       "    <tr>\n",
       "      <th>447512</th>\n",
       "      <td>YQIV8384792</td>\n",
       "      <td>2020-06-13 23:59:55</td>\n",
       "      <td>564.99240</td>\n",
       "      <td>flow</td>\n",
       "    </tr>\n",
       "    <tr>\n",
       "      <th>447513</th>\n",
       "      <td>ACSH9824768</td>\n",
       "      <td>2020-06-13 23:59:55</td>\n",
       "      <td>14.05650</td>\n",
       "      <td>flow</td>\n",
       "    </tr>\n",
       "    <tr>\n",
       "      <th>447514</th>\n",
       "      <td>FRSE9448289</td>\n",
       "      <td>2020-06-13 23:59:55</td>\n",
       "      <td>7.00550</td>\n",
       "      <td>flow</td>\n",
       "    </tr>\n",
       "    <tr>\n",
       "      <th>447515</th>\n",
       "      <td>BXWS8009878</td>\n",
       "      <td>2020-06-13 23:59:55</td>\n",
       "      <td>72.75675</td>\n",
       "      <td>flow</td>\n",
       "    </tr>\n",
       "  </tbody>\n",
       "</table>\n",
       "<p>447516 rows × 4 columns</p>\n",
       "</div>"
      ],
      "text/plain": [
       "                Tag                  TS        avg          UoM\n",
       "0       XZWH6517900 2020-06-12 00:00:00   86.91900   percentage\n",
       "1       NLFD6046949 2020-06-12 00:00:00    6.87600     pressure\n",
       "2       OLGF7428100 2020-06-12 00:00:00   10.52000  temperature\n",
       "3       VKBD2463131 2020-06-12 00:00:00   25.41540  temperature\n",
       "4       WJTY3058662 2020-06-12 00:00:00   17.55760         flow\n",
       "...             ...                 ...        ...          ...\n",
       "447511  OGXF8790955 2020-06-13 23:59:55  726.23070         flow\n",
       "447512  YQIV8384792 2020-06-13 23:59:55  564.99240         flow\n",
       "447513  ACSH9824768 2020-06-13 23:59:55   14.05650         flow\n",
       "447514  FRSE9448289 2020-06-13 23:59:55    7.00550         flow\n",
       "447515  BXWS8009878 2020-06-13 23:59:55   72.75675         flow\n",
       "\n",
       "[447516 rows x 4 columns]"
      ]
     },
     "execution_count": 3,
     "metadata": {},
     "output_type": "execute_result"
    }
   ],
   "source": [
    "df"
   ]
  },
  {
   "cell_type": "code",
   "execution_count": 4,
   "metadata": {},
   "outputs": [
    {
     "data": {
      "text/html": [
       "<div>\n",
       "<style scoped>\n",
       "    .dataframe tbody tr th:only-of-type {\n",
       "        vertical-align: middle;\n",
       "    }\n",
       "\n",
       "    .dataframe tbody tr th {\n",
       "        vertical-align: top;\n",
       "    }\n",
       "\n",
       "    .dataframe thead th {\n",
       "        text-align: right;\n",
       "    }\n",
       "</style>\n",
       "<table border=\"1\" class=\"dataframe\">\n",
       "  <thead>\n",
       "    <tr style=\"text-align: right;\">\n",
       "      <th></th>\n",
       "      <th>Tag</th>\n",
       "      <th>UoM</th>\n",
       "      <th>Count</th>\n",
       "      <th>Diffs</th>\n",
       "      <th>Nr_Diffs</th>\n",
       "    </tr>\n",
       "  </thead>\n",
       "  <tbody>\n",
       "    <tr>\n",
       "      <th>0</th>\n",
       "      <td>CCUA4846210</td>\n",
       "      <td>flow</td>\n",
       "      <td>24168</td>\n",
       "      <td>0 days 00:00:05    17130\n",
       "0 days 00:00:10     4...</td>\n",
       "      <td>10</td>\n",
       "    </tr>\n",
       "    <tr>\n",
       "      <th>1</th>\n",
       "      <td>NLFD6046949</td>\n",
       "      <td>pressure</td>\n",
       "      <td>23681</td>\n",
       "      <td>0 days 00:00:05    18450\n",
       "0 days 00:00:10     3...</td>\n",
       "      <td>32</td>\n",
       "    </tr>\n",
       "    <tr>\n",
       "      <th>2</th>\n",
       "      <td>IBCD9076387</td>\n",
       "      <td>temperature</td>\n",
       "      <td>20426</td>\n",
       "      <td>0 days 00:00:05    16219\n",
       "0 days 00:00:10     2...</td>\n",
       "      <td>64</td>\n",
       "    </tr>\n",
       "    <tr>\n",
       "      <th>3</th>\n",
       "      <td>BCNT5607274</td>\n",
       "      <td>current</td>\n",
       "      <td>19687</td>\n",
       "      <td>0 days 00:00:05    16960\n",
       "0 days 00:00:10     2...</td>\n",
       "      <td>99</td>\n",
       "    </tr>\n",
       "    <tr>\n",
       "      <th>4</th>\n",
       "      <td>CJYY7281535</td>\n",
       "      <td>pressure</td>\n",
       "      <td>19299</td>\n",
       "      <td>0 days 00:00:05    14503\n",
       "0 days 00:00:10     2...</td>\n",
       "      <td>56</td>\n",
       "    </tr>\n",
       "    <tr>\n",
       "      <th>5</th>\n",
       "      <td>XZWH6517900</td>\n",
       "      <td>percentage</td>\n",
       "      <td>18761</td>\n",
       "      <td>0 days 00:00:05    15404\n",
       "0 days 00:00:10     1...</td>\n",
       "      <td>55</td>\n",
       "    </tr>\n",
       "    <tr>\n",
       "      <th>6</th>\n",
       "      <td>KUBF4965544</td>\n",
       "      <td>0</td>\n",
       "      <td>18558</td>\n",
       "      <td>0 days 00:00:05    17448\n",
       "0 days 00:00:10      ...</td>\n",
       "      <td>109</td>\n",
       "    </tr>\n",
       "    <tr>\n",
       "      <th>7</th>\n",
       "      <td>ITPL9140030</td>\n",
       "      <td>percentage</td>\n",
       "      <td>14357</td>\n",
       "      <td>0 days 00:00:05    11464\n",
       "0 days 00:00:10     1...</td>\n",
       "      <td>104</td>\n",
       "    </tr>\n",
       "    <tr>\n",
       "      <th>8</th>\n",
       "      <td>YQIV8384792</td>\n",
       "      <td>flow</td>\n",
       "      <td>13586</td>\n",
       "      <td>0 days 00:00:05    9901\n",
       "0 days 00:00:10    207...</td>\n",
       "      <td>112</td>\n",
       "    </tr>\n",
       "    <tr>\n",
       "      <th>9</th>\n",
       "      <td>WJTY3058662</td>\n",
       "      <td>flow</td>\n",
       "      <td>13351</td>\n",
       "      <td>0 days 00:00:05    9539\n",
       "0 days 00:00:10    169...</td>\n",
       "      <td>102</td>\n",
       "    </tr>\n",
       "    <tr>\n",
       "      <th>10</th>\n",
       "      <td>UBDD6270540</td>\n",
       "      <td>flow</td>\n",
       "      <td>13177</td>\n",
       "      <td>0 days 00:00:05    9452\n",
       "0 days 00:00:10    203...</td>\n",
       "      <td>116</td>\n",
       "    </tr>\n",
       "    <tr>\n",
       "      <th>11</th>\n",
       "      <td>OLGF7428100</td>\n",
       "      <td>temperature</td>\n",
       "      <td>13100</td>\n",
       "      <td>0 days 00:00:05    8445\n",
       "0 days 00:00:10    195...</td>\n",
       "      <td>83</td>\n",
       "    </tr>\n",
       "    <tr>\n",
       "      <th>12</th>\n",
       "      <td>OGXF8790955</td>\n",
       "      <td>flow</td>\n",
       "      <td>12833</td>\n",
       "      <td>0 days 00:00:05    8413\n",
       "0 days 00:00:10    259...</td>\n",
       "      <td>107</td>\n",
       "    </tr>\n",
       "    <tr>\n",
       "      <th>13</th>\n",
       "      <td>CVKK2848713</td>\n",
       "      <td>pressure</td>\n",
       "      <td>12387</td>\n",
       "      <td>0 days 00:00:05    6487\n",
       "0 days 00:00:10    216...</td>\n",
       "      <td>60</td>\n",
       "    </tr>\n",
       "    <tr>\n",
       "      <th>14</th>\n",
       "      <td>FRMT5013249</td>\n",
       "      <td>percentage</td>\n",
       "      <td>11683</td>\n",
       "      <td>0 days 00:00:05    8386\n",
       "0 days 00:00:10    150...</td>\n",
       "      <td>107</td>\n",
       "    </tr>\n",
       "    <tr>\n",
       "      <th>15</th>\n",
       "      <td>WECE8118101</td>\n",
       "      <td>flow</td>\n",
       "      <td>11288</td>\n",
       "      <td>0 days 00:00:05    7523\n",
       "0 days 00:00:10    177...</td>\n",
       "      <td>118</td>\n",
       "    </tr>\n",
       "    <tr>\n",
       "      <th>16</th>\n",
       "      <td>TPDS7991137</td>\n",
       "      <td>flow</td>\n",
       "      <td>10837</td>\n",
       "      <td>0 days 00:00:05    7996\n",
       "0 days 00:00:10    107...</td>\n",
       "      <td>114</td>\n",
       "    </tr>\n",
       "    <tr>\n",
       "      <th>17</th>\n",
       "      <td>OPTP4622826</td>\n",
       "      <td>flow</td>\n",
       "      <td>10835</td>\n",
       "      <td>0 days 00:00:05    7994\n",
       "0 days 00:00:10    107...</td>\n",
       "      <td>115</td>\n",
       "    </tr>\n",
       "    <tr>\n",
       "      <th>18</th>\n",
       "      <td>OBVY4087560</td>\n",
       "      <td>flow</td>\n",
       "      <td>10835</td>\n",
       "      <td>0 days 00:00:05    7994\n",
       "0 days 00:00:10    107...</td>\n",
       "      <td>115</td>\n",
       "    </tr>\n",
       "    <tr>\n",
       "      <th>19</th>\n",
       "      <td>UEDA3063294</td>\n",
       "      <td>flow</td>\n",
       "      <td>10835</td>\n",
       "      <td>0 days 00:00:05    7992\n",
       "0 days 00:00:10    107...</td>\n",
       "      <td>114</td>\n",
       "    </tr>\n",
       "  </tbody>\n",
       "</table>\n",
       "</div>"
      ],
      "text/plain": [
       "            Tag          UoM  Count  \\\n",
       "0   CCUA4846210         flow  24168   \n",
       "1   NLFD6046949     pressure  23681   \n",
       "2   IBCD9076387  temperature  20426   \n",
       "3   BCNT5607274      current  19687   \n",
       "4   CJYY7281535     pressure  19299   \n",
       "5   XZWH6517900   percentage  18761   \n",
       "6   KUBF4965544            0  18558   \n",
       "7   ITPL9140030   percentage  14357   \n",
       "8   YQIV8384792         flow  13586   \n",
       "9   WJTY3058662         flow  13351   \n",
       "10  UBDD6270540         flow  13177   \n",
       "11  OLGF7428100  temperature  13100   \n",
       "12  OGXF8790955         flow  12833   \n",
       "13  CVKK2848713     pressure  12387   \n",
       "14  FRMT5013249   percentage  11683   \n",
       "15  WECE8118101         flow  11288   \n",
       "16  TPDS7991137         flow  10837   \n",
       "17  OPTP4622826         flow  10835   \n",
       "18  OBVY4087560         flow  10835   \n",
       "19  UEDA3063294         flow  10835   \n",
       "\n",
       "                                                Diffs  Nr_Diffs  \n",
       "0   0 days 00:00:05    17130\n",
       "0 days 00:00:10     4...        10  \n",
       "1   0 days 00:00:05    18450\n",
       "0 days 00:00:10     3...        32  \n",
       "2   0 days 00:00:05    16219\n",
       "0 days 00:00:10     2...        64  \n",
       "3   0 days 00:00:05    16960\n",
       "0 days 00:00:10     2...        99  \n",
       "4   0 days 00:00:05    14503\n",
       "0 days 00:00:10     2...        56  \n",
       "5   0 days 00:00:05    15404\n",
       "0 days 00:00:10     1...        55  \n",
       "6   0 days 00:00:05    17448\n",
       "0 days 00:00:10      ...       109  \n",
       "7   0 days 00:00:05    11464\n",
       "0 days 00:00:10     1...       104  \n",
       "8   0 days 00:00:05    9901\n",
       "0 days 00:00:10    207...       112  \n",
       "9   0 days 00:00:05    9539\n",
       "0 days 00:00:10    169...       102  \n",
       "10  0 days 00:00:05    9452\n",
       "0 days 00:00:10    203...       116  \n",
       "11  0 days 00:00:05    8445\n",
       "0 days 00:00:10    195...        83  \n",
       "12  0 days 00:00:05    8413\n",
       "0 days 00:00:10    259...       107  \n",
       "13  0 days 00:00:05    6487\n",
       "0 days 00:00:10    216...        60  \n",
       "14  0 days 00:00:05    8386\n",
       "0 days 00:00:10    150...       107  \n",
       "15  0 days 00:00:05    7523\n",
       "0 days 00:00:10    177...       118  \n",
       "16  0 days 00:00:05    7996\n",
       "0 days 00:00:10    107...       114  \n",
       "17  0 days 00:00:05    7994\n",
       "0 days 00:00:10    107...       115  \n",
       "18  0 days 00:00:05    7994\n",
       "0 days 00:00:10    107...       115  \n",
       "19  0 days 00:00:05    7992\n",
       "0 days 00:00:10    107...       114  "
      ]
     },
     "execution_count": 4,
     "metadata": {},
     "output_type": "execute_result"
    }
   ],
   "source": [
    "df_stats = get_stats(df)\n",
    "df_stats.head(20)"
   ]
  },
  {
   "cell_type": "markdown",
   "metadata": {},
   "source": [
    "### Interpolate one sensor as example"
   ]
  },
  {
   "cell_type": "code",
   "execution_count": 6,
   "metadata": {},
   "outputs": [
    {
     "data": {
      "text/plain": [
       "'CCUA4846210'"
      ]
     },
     "execution_count": 6,
     "metadata": {},
     "output_type": "execute_result"
    }
   ],
   "source": [
    "first_sensor = df_stats.iloc[0]['Tag']\n",
    "first_sensor"
   ]
  },
  {
   "cell_type": "code",
   "execution_count": 7,
   "metadata": {},
   "outputs": [
    {
     "data": {
      "text/html": [
       "<div>\n",
       "<style scoped>\n",
       "    .dataframe tbody tr th:only-of-type {\n",
       "        vertical-align: middle;\n",
       "    }\n",
       "\n",
       "    .dataframe tbody tr th {\n",
       "        vertical-align: top;\n",
       "    }\n",
       "\n",
       "    .dataframe thead th {\n",
       "        text-align: right;\n",
       "    }\n",
       "</style>\n",
       "<table border=\"1\" class=\"dataframe\">\n",
       "  <thead>\n",
       "    <tr style=\"text-align: right;\">\n",
       "      <th></th>\n",
       "      <th>avg</th>\n",
       "    </tr>\n",
       "  </thead>\n",
       "  <tbody>\n",
       "    <tr>\n",
       "      <th>2020-06-12 00:00:00</th>\n",
       "      <td>84.27450</td>\n",
       "    </tr>\n",
       "    <tr>\n",
       "      <th>2020-06-12 00:00:05</th>\n",
       "      <td>78.04725</td>\n",
       "    </tr>\n",
       "    <tr>\n",
       "      <th>2020-06-12 00:00:10</th>\n",
       "      <td>83.14800</td>\n",
       "    </tr>\n",
       "    <tr>\n",
       "      <th>2020-06-12 00:00:15</th>\n",
       "      <td>66.72600</td>\n",
       "    </tr>\n",
       "    <tr>\n",
       "      <th>2020-06-12 00:00:20</th>\n",
       "      <td>77.24625</td>\n",
       "    </tr>\n",
       "    <tr>\n",
       "      <th>...</th>\n",
       "      <td>...</td>\n",
       "    </tr>\n",
       "    <tr>\n",
       "      <th>2020-06-13 23:59:40</th>\n",
       "      <td>104.94325</td>\n",
       "    </tr>\n",
       "    <tr>\n",
       "      <th>2020-06-13 23:59:45</th>\n",
       "      <td>101.91200</td>\n",
       "    </tr>\n",
       "    <tr>\n",
       "      <th>2020-06-13 23:59:50</th>\n",
       "      <td>98.88075</td>\n",
       "    </tr>\n",
       "    <tr>\n",
       "      <th>2020-06-13 23:59:55</th>\n",
       "      <td>92.57925</td>\n",
       "    </tr>\n",
       "    <tr>\n",
       "      <th>2020-06-14 00:00:00</th>\n",
       "      <td>92.57925</td>\n",
       "    </tr>\n",
       "  </tbody>\n",
       "</table>\n",
       "<p>34561 rows × 1 columns</p>\n",
       "</div>"
      ],
      "text/plain": [
       "                           avg\n",
       "2020-06-12 00:00:00   84.27450\n",
       "2020-06-12 00:00:05   78.04725\n",
       "2020-06-12 00:00:10   83.14800\n",
       "2020-06-12 00:00:15   66.72600\n",
       "2020-06-12 00:00:20   77.24625\n",
       "...                        ...\n",
       "2020-06-13 23:59:40  104.94325\n",
       "2020-06-13 23:59:45  101.91200\n",
       "2020-06-13 23:59:50   98.88075\n",
       "2020-06-13 23:59:55   92.57925\n",
       "2020-06-14 00:00:00   92.57925\n",
       "\n",
       "[34561 rows x 1 columns]"
      ]
     },
     "execution_count": 7,
     "metadata": {},
     "output_type": "execute_result"
    }
   ],
   "source": [
    "df_first_inter = interpolate_sensor(df, first_sensor, freq=FREQ)\n",
    "df_first_inter"
   ]
  },
  {
   "cell_type": "markdown",
   "metadata": {},
   "source": [
    "Look at plot before and after interpolation."
   ]
  },
  {
   "cell_type": "code",
   "execution_count": 6,
   "metadata": {},
   "outputs": [
    {
     "data": {
      "image/png": "[encoded data removed]",
      "text/plain": [
       "<Figure size 432x288 with 1 Axes>"
      ]
     },
     "metadata": {
      "needs_background": "light"
     },
     "output_type": "display_data"
    }
   ],
   "source": [
    "df[df['Tag'] == first_sensor].set_index('TS')['avg'].plot();"
   ]
  },
  {
   "cell_type": "code",
   "execution_count": 7,
   "metadata": {},
   "outputs": [
    {
     "data": {
      "image/png": "[encoded data removed]",
      "text/plain": [
       "<Figure size 432x288 with 1 Axes>"
      ]
     },
     "metadata": {
      "needs_background": "light"
     },
     "output_type": "display_data"
    }
   ],
   "source": [
    "df_first_inter.plot();"
   ]
  },
  {
   "cell_type": "markdown",
   "metadata": {},
   "source": [
    "# Q2\n",
    "\n",
    "Some sensors may respond immediately to a change in a setting (e.g., the spinning frequency of a motor) while others may have a longer response time (e.g., the temperature of the product when the temperature setting of a heat exchanger has been changed). Can you determine the response times of the different sensors? Please explain precisely how you define the response time."
   ]
  },
  {
   "cell_type": "markdown",
   "metadata": {},
   "source": [
    "Ik denk dat we hier iets moeten doen met de helling (afgeleide) oid, want dan kan je zien hoe snel de waardes stijgen of dalen wat een reactie kan zijn op het verzetten van een setting. "
   ]
  },
  {
   "cell_type": "code",
   "execution_count": 8,
   "metadata": {},
   "outputs": [],
   "source": [
    "df_first_inter = get_derivative(df_first_inter)"
   ]
  },
  {
   "cell_type": "code",
   "execution_count": 9,
   "metadata": {},
   "outputs": [
    {
     "data": {
      "image/png": "[encoded data removed]",
      "text/plain": [
       "<Figure size 432x288 with 1 Axes>"
      ]
     },
     "metadata": {
      "needs_background": "light"
     },
     "output_type": "display_data"
    }
   ],
   "source": [
    "df_first_inter.plot();"
   ]
  },
  {
   "cell_type": "markdown",
   "metadata": {},
   "source": [
    "Wanneer je hier sampled op 5 minutes (5T), dan zie je bij deze sensor dat de afgeleide hoog is op het moment dat de waardes zelf ook hard stijgen/dalen. Bij samplen op bv. 5S zie je dit een stuk minder goed (kan je wiskundig misschien wel goed laten zien). \n",
    "\n",
    "Manier van resamplen klopt nu alleen nog niet helemaal. Nu pakt 'ie de waarde om de 5 minutes, terwijl hij dan eigenlijk een gemiddelde oid zou moeten pakken. "
   ]
  },
  {
   "cell_type": "markdown",
   "metadata": {},
   "source": [
    "# Q3\n",
    "\n",
    "Because the product has to flow through the line, the sensor responses are expected to show correlations with each other. However, there will be a certain time delay between the sensor data relative to each other. The suggested way to extract this delay is to correlate the data sequences and find the time shift that achieves the highest correlation (there may be other ways). How are the sensors correlated and what are the relative time delays? What are the relative time delays of the actual physical disturbances of the product flow? Note that for the latter question, the answer to Question 1 may affect your result. Also note that the dataset has a high time resolution. This emphasizes high frequency fluctuations, which may make it difficult to find the correlations of sensors that are further apart and therefore have a larger lag. Please report if you find wildly unlikely results and suspect that time stamps were incorrect (can this be corrected?)."
   ]
  },
  {
   "cell_type": "markdown",
   "metadata": {},
   "source": [
    "Summary APs for Q3:\n",
    "* Correlate sensors and fine the time shift that achieves the highest correlation;\n",
    "    * So map how which two sensors are correlated and on which lag they are correlated the most.\n",
    "* What are the relative time delays when physical disturbances happen? (Ik denk je dit kan meten ahv antwoord Q2)\n",
    "\n",
    "\n",
    "General note: High time resolution dataset and therefore there are probably high frequency fluctuations. Sensors that are far apart probably have a large time lag. "
   ]
  },
  {
   "cell_type": "markdown",
   "metadata": {},
   "source": [
    "## Input from Melvin"
   ]
  },
  {
   "cell_type": "code",
   "execution_count": 10,
   "metadata": {},
   "outputs": [
    {
     "data": {
      "image/png": "[encoded data removed]",
      "text/plain": [
       "<Figure size 1080x720 with 1 Axes>"
      ]
     },
     "metadata": {
      "needs_background": "light"
     },
     "output_type": "display_data"
    }
   ],
   "source": [
    "sensors = ['CCUA4846210', 'RYSR5117035']\n",
    "output = corr_two(input_sensors = sensors, \n",
    "         frame = df,\n",
    "         max_lags = int(600/int(FREQ[:-1])),  # take 600 seconds (10 minutes), divide this by the number of seconds resampled on to get a good number of lags\n",
    "        )"
   ]
  },
  {
   "cell_type": "code",
   "execution_count": null,
   "metadata": {},
   "outputs": [],
   "source": [
    "# add function to get the highest correlation per sensor pairs --> determine the lag where this correlation arises.\n",
    "output"
   ]
  },
  {
   "cell_type": "code",
   "execution_count": null,
   "metadata": {},
   "outputs": [],
   "source": []
  }
 ],
 "metadata": {
  "kernelspec": {
   "display_name": "Python 3",
   "language": "python",
   "name": "python3"
  },
  "language_info": {
   "codemirror_mode": {
    "name": "ipython",
    "version": 3
   },
   "file_extension": ".py",
   "mimetype": "text/x-python",
   "name": "python",
   "nbconvert_exporter": "python",
   "pygments_lexer": "ipython3",
   "version": "3.8.3"
  },
  "toc-autonumbering": true
 },
 "nbformat": 4,
 "nbformat_minor": 4
}
